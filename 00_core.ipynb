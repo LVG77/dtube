{
 "cells": [
  {
   "cell_type": "markdown",
   "metadata": {},
   "source": [
    "# core\n",
    "\n",
    "> Collection of useful YT code snippets"
   ]
  },
  {
   "cell_type": "code",
   "execution_count": null,
   "metadata": {},
   "outputs": [],
   "source": [
    "#| default_exp core"
   ]
  },
  {
   "cell_type": "code",
   "execution_count": null,
   "metadata": {},
   "outputs": [],
   "source": [
    "#| hide\n",
    "from nbdev.showdoc import *"
   ]
  },
  {
   "cell_type": "code",
   "execution_count": null,
   "metadata": {},
   "outputs": [],
   "source": [
    "#| export\n",
    "from pytube import YouTube, Channel\n",
    "from fastcore.script import call_parse"
   ]
  },
  {
   "cell_type": "code",
   "execution_count": null,
   "metadata": {},
   "outputs": [],
   "source": [
    "jh_ch = Channel('https://www.youtube.com/user/howardjeremyp')\n",
    "vids = jh_ch.videos[:50]\n",
    "vid_info = {v.title: v.description for v in vids}"
   ]
  },
  {
   "cell_type": "code",
   "execution_count": null,
   "metadata": {},
   "outputs": [],
   "source": [
    "#| export\n",
    "def find_in_vids(o:dict,   # YT videos, dict title:description\n",
    "                 t:str,    # text to search in title \n",
    "                 d:str):   # text to search in description\n",
    "    r = {k:v for (k,v) in o.items() if t in k and d in v.lower()}\n",
    "    return {k:l for (k,v) in r.items() for l in v.split('\\n') if d in l.lower()} "
   ]
  },
  {
   "cell_type": "code",
   "execution_count": null,
   "metadata": {},
   "outputs": [
    {
     "data": {
      "text/plain": [
       "<pytube.__main__.YouTube object: videoId=nNQg3BYu228>"
      ]
     },
     "execution_count": null,
     "metadata": {},
     "output_type": "execute_result"
    }
   ],
   "source": [
    "vid =  vids[0]\n",
    "vid"
   ]
  },
  {
   "cell_type": "code",
   "execution_count": null,
   "metadata": {},
   "outputs": [
    {
     "data": {
      "text/plain": [
       "{'Live coding 11': '20:00 - Using .gitconfig',\n",
       " 'Live coding 15': '1:23:36 - running tests in fastai and creating github issues',\n",
       " 'Live coding 6': '42:30 - Adding git config file to persistent storage',\n",
       " 'Live coding 2': '54:26 Committing and pushing to git',\n",
       " 'Live coding 10': '14:00 - Github Gist',\n",
       " 'Live coding 3': '1:16:35 Copying SSH keys to Paperspace to communicate with github'}"
      ]
     },
     "execution_count": null,
     "metadata": {},
     "output_type": "execute_result"
    }
   ],
   "source": [
    "r = find_in_vids(vid_info, 'Live coding', 'git')\n",
    "r"
   ]
  },
  {
   "cell_type": "code",
   "execution_count": null,
   "metadata": {},
   "outputs": [],
   "source": [
    "assert r['Live coding 11'] == '20:00 - Using .gitconfig'\n",
    "assert r['Live coding 6'] == '42:30 - Adding git config file to persistent storage'"
   ]
  },
  {
   "cell_type": "code",
   "execution_count": null,
   "metadata": {},
   "outputs": [],
   "source": [
    "#| export\n",
    "@call_parse\n",
    "def search_in_vids(yt_name:str,   # YT user name\n",
    "                   t:str,         # search in title \n",
    "                   d:str,         # search in description\n",
    "                   n_vid:int=10): # number of videos to look into\n",
    "    'Search by keyword in YouTube video descriptions'\n",
    "    chan = Channel(f'https://www.youtube.com/user/{yt_name}')\n",
    "    vids = chan.videos[:n_vid]\n",
    "    vid_info = {v.title: v.description for v in vids}\n",
    "    r = {k:v for (k,v) in vid_info.items() if t in k and d in v.lower()}\n",
    "    return {k:l for (k,v) in r.items() for l in v.split('\\n') if d in l.lower()}"
   ]
  },
  {
   "cell_type": "code",
   "execution_count": null,
   "metadata": {},
   "outputs": [],
   "source": [
    "hits = search_in_vids('howardjeremyp', 'Live coding', 'vim')\n",
    "assert hits['Live coding 9'] == '06:30 - Navigating around files in vim'"
   ]
  },
  {
   "cell_type": "code",
   "execution_count": null,
   "metadata": {},
   "outputs": [],
   "source": [
    "#| hide\n",
    "import nbdev; nbdev.nbdev_export()"
   ]
  }
 ],
 "metadata": {
  "kernelspec": {
   "display_name": "Python 3 (ipykernel)",
   "language": "python",
   "name": "python3"
  }
 },
 "nbformat": 4,
 "nbformat_minor": 4
}
